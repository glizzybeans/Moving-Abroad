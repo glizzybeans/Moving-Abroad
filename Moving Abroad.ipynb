{
 "cells": [
  {
   "cell_type": "markdown",
   "metadata": {},
   "source": [
    "Ever since I studied abroad in college, I've always dreamed of moving abroad. A couple of my favorite places I've visited over the years would be Czech Republic, Poland, Hungary, Slovakia\n",
    "\n",
    "For this project I will compare the cost of living where I currently live in Lexington KY to a comparable sized city in each of those countries. is there a country I could move to in Europe that I could live on the same salary I make in the states. where would my money go further, where would my money goes less. \n",
    "\n",
    "The most important measures to me: are rent prices for a 1 bedroom apartment, transportation costs, healthcare, grocery prices. \n",
    "\n",
    "I mainly just need to know the amount of money I'd need to make to live comfortable, not lavish or extratrodinare. \n",
    "\n",
    "I am college educated, but don't carry a professional degree like someone who can practice law, engineer, nurse, doctor. \n",
    "\n",
    "\n",
    "I will compare the currency and find out which country would be the most logical answer to my question. I will do it by City, then by country and then by index\n",
    "\n",
    "I think a heat map would be best for this, to visualize affordability to non. I am considering a bar chart as well. maybe for the Quality of Life one. \n",
    "\n",
    "Housing Costs – Rent, mortgage, utilities\n",
    "Food & Groceries – Cost of basic staples (bread, milk, meat, fruits, etc.)\n",
    "Transportation – Public transport, fuel, car ownership costs\n",
    "Healthcare – Insurance, hospital visits, medications\n",
    "Education – Tuition fees, school expenses\n",
    "Entertainment & Leisure – Dining out, movies, gyms\n",
    "Taxes & Insurance – Income tax, social security, local taxes\n",
    "\n",
    "Major cities vs. suburban areas\n",
    "Countries with high vs. low living costs\n",
    "Specific currencies and exchange rates\n",
    "\n",
    "\n",
    "cities (city_id, city_name, country_id, currency_code)\n",
    "countries (country_id, country_name, currency_code)\n",
    "cost_of_living (city_id, housing, food, transport, healthcare, entertainment, total_cost)\n",
    "currency_exchange (currency_code, exchange_rate_to_usd, last_updated)\n",
    "\n"
   ]
  },
  {
   "cell_type": "code",
   "execution_count": 9,
   "metadata": {},
   "outputs": [],
   "source": [
    "import pandas , numpy, matplotlib, seaborn, sqlite3"
   ]
  },
  {
   "cell_type": "code",
   "execution_count": 10,
   "metadata": {},
   "outputs": [],
   "source": [
    "import pandas as pd\n",
    "import numpy as np\n",
    "import matplotlib.pyplot as plt\n",
    "import seaborn as sns\n",
    "import sqlite3"
   ]
  },
  {
   "cell_type": "code",
   "execution_count": 11,
   "metadata": {},
   "outputs": [],
   "source": [
    "# Loaded variable 'df' from URI: c:\\Users\\kpeac\\OneDrive\\Documents\\Projects\\Moving-Abroad\\Cost of Living Data.csv\n",
    "import pandas as pd\n",
    "df = pd.read_csv(r'c:\\Users\\kpeac\\OneDrive\\Documents\\Projects\\Moving-Abroad\\Cost of Living Data.csv')\n"
   ]
  },
  {
   "cell_type": "code",
   "execution_count": 12,
   "metadata": {},
   "outputs": [],
   "source": [
    "# Loaded variable 'df' from URI: c:\\Users\\kpeac\\OneDrive\\Documents\\Projects\\Moving-Abroad\\currency_exchange_rates.csv\n",
    "import pandas as pd\n",
    "df = pd.read_csv(r'c:\\Users\\kpeac\\OneDrive\\Documents\\Projects\\Moving-Abroad\\currency_exchange_rates.csv')"
   ]
  },
  {
   "cell_type": "code",
   "execution_count": null,
   "metadata": {
    "vscode": {
     "languageId": "r"
    }
   },
   "outputs": [],
   "source": [
    "# Read the cost of living data\n",
    "cost_of_living_df = pd.read_csv(r'c:\\Users\\kpeac\\OneDrive\\Documents\\Projects\\Moving-Abroad\\Cost of Living Data.csv')\n",
    "\n",
    "# Read the currency exchange rates data\n",
    "currency_exchange_df = pd.read_csv(r'c:\\Users\\kpeac\\OneDrive\\Documents\\Projects\\Moving-Abroad\\currency_exchange_rates.csv')\n",
    "\n",
    "# Display the first few rows of each DataFrame\n",
    "print(cost_of_living_df.head(Cost of Living Data.csv))\n",
    "print(currency_exchange_df.head(currency_exchange_rates.csv))\n",
    "\n",
    "# Merge the DataFrames on the 'Country' column\n",
    "merged_df = pd.merge(cost_of_living_df, currency_exchange_df, on='Country')\n",
    "\n",
    "# Display the first few rows of the merged DataFrame\n",
    "print(merged_df.head())\n"
   ]
  }
 ],
 "metadata": {
  "kernelspec": {
   "display_name": "base",
   "language": "python",
   "name": "python3"
  },
  "language_info": {
   "codemirror_mode": {
    "name": "ipython",
    "version": 3
   },
   "file_extension": ".py",
   "mimetype": "text/x-python",
   "name": "python",
   "nbconvert_exporter": "python",
   "pygments_lexer": "ipython3",
   "version": "3.12.7"
  }
 },
 "nbformat": 4,
 "nbformat_minor": 2
}
