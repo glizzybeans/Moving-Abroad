{
 "cells": [
  {
   "cell_type": "markdown",
   "metadata": {},
   "source": [
    "Ever since I studied abroad in college, I've always dreamed of moving abroad. A couple of my favorite places I've visited over the years would be Czech Republic, Poland, Hungary, Slovakia\n",
    "\n",
    "For this project I will compare the cost of living where I currently live in Lexington KY to a comparable sized city in each of those countries. is there a country I could move to in Europe that I could live on the same salary I make in the states. where would my money go further, where would my money goes less. \n",
    "\n",
    "The most important measures to me: are rent prices for a 1 bedroom apartment, transportation costs, healthcare, grocery prices. \n",
    "\n",
    "I mainly just need to know the amount of money I'd need to make to live comfortable, not lavish or extratrodinare. \n",
    "\n",
    "I am college educated, but don't carry a professional degree like someone who can practice law, engineer, nurse, doctor. \n",
    "\n",
    "\n",
    "I will compare the currency and find out which country would be the most logical answer to my question. I will do it by City, then by country and then by index\n",
    "\n",
    "I think a heat map would be best for this, to visualize affordability to non. I am considering a bar chart as well. maybe for the Quality of Life one. \n",
    "\n",
    "Housing Costs – Rent, mortgage, utilities\n",
    "Food & Groceries – Cost of basic staples (bread, milk, meat, fruits, etc.)\n",
    "Transportation – Public transport, fuel, car ownership costs\n",
    "Healthcare – Insurance, hospital visits, medications\n",
    "Education – Tuition fees, school expenses\n",
    "Entertainment & Leisure – Dining out, movies, gyms\n",
    "Taxes & Insurance – Income tax, social security, local taxes\n",
    "\n",
    "Major cities vs. suburban areas\n",
    "Countries with high vs. low living costs\n",
    "Specific currencies and exchange rates\n",
    "\n",
    "\n",
    "cities (city_id, city_name, country_id, currency_code)\n",
    "countries (country_id, country_name, currency_code)\n",
    "cost_of_living (city_id, housing, food, transport, healthcare, entertainment, total_cost)\n",
    "currency_exchange (currency_code, exchange_rate_to_usd, last_updated)\n",
    "\n"
   ]
  },
  {
   "cell_type": "code",
   "execution_count": 15,
   "metadata": {},
   "outputs": [],
   "source": [
    "import pandas , numpy, matplotlib, seaborn, sqlite3"
   ]
  },
  {
   "cell_type": "code",
   "execution_count": 14,
   "metadata": {},
   "outputs": [],
   "source": [
    "import pandas as pd\n",
    "import numpy as np\n",
    "import matplotlib.pyplot as plt\n",
    "import seaborn as sns\n",
    "import sqlite3"
   ]
  },
  {
   "cell_type": "code",
   "execution_count": 16,
   "metadata": {},
   "outputs": [],
   "source": [
    "# Loaded variable 'df' from URI: c:\\Users\\kpeac\\OneDrive\\Documents\\Projects\\Moving-Abroad\\currency_exchange_rates.csv\n",
    "import pandas as pd\n",
    "df = pd.read_csv('c:\\\\Users\\\\kpeac\\\\OneDrive\\\\Documents\\\\Projects\\\\Moving-Abroad\\\\currency_exchange_rates.csv')"
   ]
  },
  {
   "cell_type": "code",
   "execution_count": 17,
   "metadata": {},
   "outputs": [],
   "source": [
    "# Loaded variable 'df' from URI: c:\\Users\\kpeac\\OneDrive\\Documents\\Projects\\Moving-Abroad\\Project Data.xlsx\n",
    "import pandas as pd\n",
    "df = pd.read_excel(r'c:\\Users\\kpeac\\OneDrive\\Documents\\Projects\\Moving-Abroad\\Project Data.xlsx')"
   ]
  },
  {
   "cell_type": "code",
   "execution_count": 18,
   "metadata": {},
   "outputs": [
    {
     "name": "stdout",
     "output_type": "stream",
     "text": [
      "                               Main Cost Parameters  Cities to be compared  \\\n",
      "0                                                NaN     Lexington Ky, USA   \n",
      "1  Restaurants (includes take out and some sit do...                   609   \n",
      "2                                   Nightlife Drinks                 58.87   \n",
      "3  Monthly Grocery Costs (includes pantry staples...                249.34   \n",
      "4  Drinks at Home (including take away coffee , s...                 28.62   \n",
      "\n",
      "                Unnamed: 2            Unnamed: 3      Unnamed: 4  \\\n",
      "0  Olomouc, Czech Republic  Brno, Czech Republic  Krakow, Poland   \n",
      "1                  6268.26             7,693.68        1,667.53    \n",
      "2                   678.99                860.21          138.75   \n",
      "3                3,566.63                3640.53         536.69    \n",
      "4                   234.74               242.50           42.73    \n",
      "\n",
      "        Unnamed: 5         Unnamed: 6            Unnamed: 7  \n",
      "0  Wroclaw, Poland  Budapest, Hungary  Bratislava, Slovakia  \n",
      "1        1,657.04         153,782.16                 393.62  \n",
      "2           137.12         11,216.94                 37.18   \n",
      "3          539.17          52,835.93                157.67   \n",
      "4           47.48           3,544.41                 11.09   \n",
      "                               Main Cost Parameters  Cities to be compared  \\\n",
      "0                                                NaN     Lexington Ky, USA   \n",
      "1  Restaurants (includes take out and some sit do...                   609   \n",
      "2                                   Nightlife Drinks                 58.87   \n",
      "3  Monthly Grocery Costs (includes pantry staples...                249.34   \n",
      "4  Drinks at Home (including take away coffee , s...                 28.62   \n",
      "\n",
      "                Unnamed: 2            Unnamed: 3      Unnamed: 4  \\\n",
      "0  Olomouc, Czech Republic  Brno, Czech Republic  Krakow, Poland   \n",
      "1                  6268.26             7,693.68        1,667.53    \n",
      "2                   678.99                860.21          138.75   \n",
      "3                3,566.63                3640.53         536.69    \n",
      "4                   234.74               242.50           42.73    \n",
      "\n",
      "        Unnamed: 5         Unnamed: 6            Unnamed: 7  \n",
      "0  Wroclaw, Poland  Budapest, Hungary  Bratislava, Slovakia  \n",
      "1        1,657.04         153,782.16                 393.62  \n",
      "2           137.12         11,216.94                 37.18   \n",
      "3          539.17          52,835.93                157.67   \n",
      "4           47.48           3,544.41                 11.09   \n",
      "          Country  Quality of Life  Cost of Living  Healthcare Cost Index  \\\n",
      "0        Slovakia            157.6            42.1                   54.3   \n",
      "1          Poland            153.9            38.9                   58.0   \n",
      "2         Hungary            144.6            36.6                   58.4   \n",
      "3  Czech Republic            174.8            42.6                   75.5   \n",
      "4  United States             188.8            64.9                   67.8   \n",
      "\n",
      "   Safety Index  \n",
      "0          69.0  \n",
      "1          71.0  \n",
      "2          66.3  \n",
      "3          73.5  \n",
      "4          50.8  \n",
      "         date    USD         CZK         HUF         PLN         EUR\n",
      "0  2025-02-01  100.0  100.000000  100.000000  100.000000  100.000000\n",
      "1  2025-02-02  101.0  100.043440  100.002722  100.260417  101.086957\n",
      "2  2025-02-03  102.0  100.086881  100.005443  100.520833  102.173913\n",
      "3  2025-02-04  103.0  100.130321  100.008165  100.781250  103.260870\n",
      "4  2025-02-05  104.0  100.173762  100.010886  101.041667  104.347826\n"
     ]
    }
   ],
   "source": [
    "print(df.head())\n",
    "\n",
    "# Load 'Monthly Cost of Living' sheet\n",
    "df_monthly_cost = pd.read_excel(r'c:\\Users\\kpeac\\OneDrive\\Documents\\Projects\\Moving-Abroad\\Project Data.xlsx', sheet_name='Monthly Cost of Living')\n",
    "print(df_monthly_cost.head())\n",
    "\n",
    "# Load 'Indexes' sheet\n",
    "df_indexes = pd.read_excel(r'c:\\Users\\kpeac\\OneDrive\\Documents\\Projects\\Moving-Abroad\\Project Data.xlsx', sheet_name='Indexes')\n",
    "print(df_indexes.head())\n",
    "\n",
    "# Load currency exchange rates\n",
    "df_currency_exchange = pd.read_csv('c:\\\\Users\\\\kpeac\\\\OneDrive\\\\Documents\\\\Projects\\\\Moving-Abroad\\\\currency_exchange_rates.csv')\n",
    "print(df_currency_exchange.head())\n"
   ]
  },
  {
   "cell_type": "code",
   "execution_count": 19,
   "metadata": {},
   "outputs": [
    {
     "name": "stdout",
     "output_type": "stream",
     "text": [
      "\n",
      "Adjusted Cost of Living in USD:\n",
      "         City  Monthly Cost Currency  Exchange Rate  \\\n",
      "0     Olomouc          1200      CZK     101.259774   \n",
      "1        Brno          1300      CZK     101.259774   \n",
      "2    Budapest        150000      HUF     100.078927   \n",
      "3  Bratislava          1100      EUR     131.521739   \n",
      "4     Wroclaw          4000      PLN     107.552083   \n",
      "5      Krakow          3800      PLN     107.552083   \n",
      "6   Lexington          2800      USD     129.000000   \n",
      "\n",
      "   Adjusted Cost of Living (USD)  \n",
      "0                      11.850708  \n",
      "1                      12.838267  \n",
      "2                    1498.817035  \n",
      "3                       8.363636  \n",
      "4                      37.191283  \n",
      "5                      35.331719  \n",
      "6                      21.705426  \n"
     ]
    },
    {
     "data": {
      "image/png": "[encoded data removed]",
      "text/plain": [
       "<Figure size 1000x600 with 1 Axes>"
      ]
     },
     "metadata": {},
     "output_type": "display_data"
    }
   ],
   "source": [
    "import pandas as pd\n",
    "import matplotlib.pyplot as plt\n",
    "import seaborn as sns\n",
    "\n",
    "# Step 1: Load the exchange rates CSV\n",
    "file_path = 'currency_exchange_rates.csv'  # Make sure this is in the same folder\n",
    "exchange_rates_df = pd.read_csv(file_path)\n",
    "\n",
    "# Step 2: Get the most recent (latest) row of exchange rates\n",
    "latest_rates = exchange_rates_df.iloc[-1]  # Last row in the DataFrame\n",
    "\n",
    "# Step 3: Map each city to the currency used\n",
    "city_currency = {\n",
    "    'Olomouc': 'CZK',\n",
    "    'Brno': 'CZK',\n",
    "    'Budapest': 'HUF',\n",
    "    'Bratislava': 'EUR',\n",
    "    'Wroclaw': 'PLN',\n",
    "    'Krakow': 'PLN',\n",
    "    'Lexington': 'USD'\n",
    "}\n",
    "\n",
    "# Step 4: Create a sample monthly cost of living in local currencies\n",
    "monthly_cost_data = {\n",
    "    'City': ['Olomouc', 'Brno', 'Budapest', 'Bratislava', 'Wroclaw', 'Krakow', 'Lexington'],\n",
    "    'Monthly Cost': [1200, 1300, 150000, 1100, 4000, 3800, 2800],  # Example values\n",
    "    'Currency': [city_currency[city] for city in city_currency]\n",
    "}\n",
    "df_monthly_cost = pd.DataFrame(monthly_cost_data)\n",
    "\n",
    "# Step 5: Get exchange rates from the latest row (skip the 'date' column)\n",
    "exchange_rate_dict = latest_rates[1:].to_dict()  # Remove the 'date'\n",
    "exchange_rate_df = pd.DataFrame(list(exchange_rate_dict.items()), columns=['Currency', 'Exchange Rate'])\n",
    "\n",
    "# Step 6: Merge exchange rates into the monthly cost table\n",
    "merged_df = pd.merge(df_monthly_cost, exchange_rate_df, on='Currency', how='left')\n",
    "\n",
    "# Step 7: Calculate adjusted cost in USD\n",
    "merged_df['Adjusted Cost of Living (USD)'] = merged_df['Monthly Cost'] / merged_df['Exchange Rate']\n",
    "\n",
    "# Step 8: Print the result\n",
    "print(\"\\nAdjusted Cost of Living in USD:\")\n",
    "print(merged_df[['City', 'Monthly Cost', 'Currency', 'Exchange Rate', 'Adjusted Cost of Living (USD)']])\n",
    "\n",
    "# Step 9: Optional - Plot the results\n",
    "plt.figure(figsize=(10, 6))\n",
    "sns.barplot(data=merged_df, x='City', y='Adjusted Cost of Living (USD)')\n",
    "plt.title('Adjusted Monthly Cost of Living (in USD)')\n",
    "plt.xlabel('City')\n",
    "plt.ylabel('USD')\n",
    "plt.xticks(rotation=45)\n",
    "plt.tight_layout()\n",
    "plt.show()\n"
   ]
  }
 ],
 "metadata": {
  "kernelspec": {
   "display_name": "base",
   "language": "python",
   "name": "python3"
  },
  "language_info": {
   "codemirror_mode": {
    "name": "ipython",
    "version": 3
   },
   "file_extension": ".py",
   "mimetype": "text/x-python",
   "name": "python",
   "nbconvert_exporter": "python",
   "pygments_lexer": "ipython3",
   "version": "3.12.7"
  }
 },
 "nbformat": 4,
 "nbformat_minor": 2
}
