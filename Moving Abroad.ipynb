{
 "cells": [
  {
   "cell_type": "markdown",
   "metadata": {},
   "source": [
    "Ever since I studied abroad in college, I've always dreamed of moving abroad. A couple of my favorite places I've visited over the years would be Czech Republic, Poland, Hungary, Slovakia\n",
    "\n",
    "For this project I will compare the cost of living where I currently live in Lexington KY to a comparable sized city in each of those countries. is there a country I could move to in Europe that I could live on the same salary I make in the states. where would my money go further, where would my money goes less. \n",
    "\n",
    "The most important measures to me: are rent prices for a 2 bedroom apartment, transportation costs, healthcare, grocery prices. \n",
    "\n",
    "I mainly just need to know the amount of money I'd need to make to live comfortable, not lavish or extratrodinare. \n",
    "\n",
    "I am college educated, but don't carry a professional degree like someone who can practice law, engineer, nurse, doctor. \n",
    "\n",
    "\n",
    "I will compare the currency and find out which country would be the most logical answer to my question. I will do it by City, then by country and then by index\n",
    "\n",
    "I think a heat map would be best for this, to visualize affordability to non. I am considering a bar chart as well. maybe for the Quality of Life one. \n",
    "\n",
    "Housing Costs – Rent, mortgage, utilities\n",
    "Food & Groceries – Cost of basic staples (bread, milk, meat, fruits, etc.)\n",
    "Transportation – Public transport, fuel, car ownership costs\n",
    "Healthcare – Insurance, hospital visits, medications\n",
    "Education – Tuition fees, school expenses\n",
    "Entertainment & Leisure – Dining out, movies, gyms\n",
    "Taxes & Insurance – Income tax, social security, local taxes\n",
    "\n",
    "Major cities vs. suburban areas\n",
    "Countries with high vs. low living costs\n",
    "Specific currencies and exchange rates\n",
    "\n",
    "\n",
    "cities (city_id, city_name, country_id, currency_code)\n",
    "countries (country_id, country_name, currency_code)\n",
    "cost_of_living (city_id, housing, food, transport, healthcare, entertainment, total_cost)\n",
    "currency_exchange (currency_code, exchange_rate_to_usd, last_updated)\n",
    "\n"
   ]
  },
  {
   "cell_type": "code",
   "execution_count": null,
   "metadata": {},
   "outputs": [],
   "source": []
  }
 ],
 "metadata": {
  "kernelspec": {
   "display_name": "base",
   "language": "python",
   "name": "python3"
  },
  "language_info": {
   "name": "python",
   "version": "3.12.7"
  }
 },
 "nbformat": 4,
 "nbformat_minor": 2
}
